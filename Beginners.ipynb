{
  "nbformat": 4,
  "nbformat_minor": 0,
  "metadata": {
    "colab": {
      "provenance": [],
      "authorship_tag": "ABX9TyN7h7GRyAx3AMDnEeaBsV6I",
      "include_colab_link": true
    },
    "kernelspec": {
      "name": "python3",
      "display_name": "Python 3"
    },
    "language_info": {
      "name": "python"
    }
  },
  "cells": [
    {
      "cell_type": "markdown",
      "metadata": {
        "id": "view-in-github",
        "colab_type": "text"
      },
      "source": [
        "<a href=\"https://colab.research.google.com/github/SakshamBakshi123/Shadowfox/blob/main/Beginners.ipynb\" target=\"_parent\"><img src=\"https://colab.research.google.com/assets/colab-badge.svg\" alt=\"Open In Colab\"/></a>"
      ]
    },
    {
      "cell_type": "markdown",
      "source": [
        "Create a variable named pi and store the value 22/7 in it.\n",
        "Now check the data type of this variable."
      ],
      "metadata": {
        "id": "zaLpw0xZoacD"
      }
    },
    {
      "cell_type": "code",
      "source": [
        "pi = 22 / 7\n",
        "print(type(pi))\n"
      ],
      "metadata": {
        "colab": {
          "base_uri": "https://localhost:8080/"
        },
        "id": "haNSUX8ZofAZ",
        "outputId": "5bdbb24f-5a95-4117-869e-1bc9f7011bfc"
      },
      "execution_count": null,
      "outputs": [
        {
          "output_type": "stream",
          "name": "stdout",
          "text": [
            "<class 'float'>\n"
          ]
        }
      ]
    },
    {
      "cell_type": "markdown",
      "source": [
        "Create a variable called for and assign it a value 4. See what\n",
        "happens and find out the reason behind the behavior that you\n",
        "see."
      ],
      "metadata": {
        "id": "On6Il5-Ho9vW"
      }
    },
    {
      "cell_type": "code",
      "source": [
        "try:\n",
        "    for_variable = 4\n",
        "    print(f\"The value of for_variable is: {for_variable}\")\n",
        "except SyntaxError as e:\n",
        "    print(f\"An error occurred: {e}\")\n",
        "    print(\"The variable name 'for' cannot be used because it is a reserved keyword in Python.\")"
      ],
      "metadata": {
        "colab": {
          "base_uri": "https://localhost:8080/"
        },
        "id": "VtiPC_HXpWYA",
        "outputId": "377a86e6-992c-49e4-c683-e6cf96803d6e"
      },
      "execution_count": null,
      "outputs": [
        {
          "output_type": "stream",
          "name": "stdout",
          "text": [
            "The value of for_variable is: 4\n"
          ]
        }
      ]
    },
    {
      "cell_type": "markdown",
      "source": [
        "Store the principal amount, rate of interest, and time in\n",
        "different variables and then calculate the Simple Interest for 3\n",
        "years. Formula: Simple Interest = P x R x T / 100"
      ],
      "metadata": {
        "id": "TbeMYjfopsdK"
      }
    },
    {
      "cell_type": "code",
      "source": [
        "principal = 10000\n",
        "rate = 5\n",
        "time = 3\n",
        "\n",
        "simple_interest = (principal * rate * time) / 100\n",
        "print(simple_interest)\n"
      ],
      "metadata": {
        "id": "oyuRWBuWqIFH"
      },
      "execution_count": null,
      "outputs": []
    },
    {
      "cell_type": "markdown",
      "source": [
        "Write a function that takes two arguments, 145 and 'o'\n",
        ", and\n",
        "uses the `format` function to return a formatted string. Print the\n",
        "result. Try to identify the representation used."
      ],
      "metadata": {
        "id": "rc-KoEIPqYix"
      }
    },
    {
      "cell_type": "code",
      "source": [
        "def format_value(number, format_spec):\n",
        "    return format(number, format_spec)\n",
        "\n",
        "result = format_value(145, 'o')\n",
        "print(result)\n"
      ],
      "metadata": {
        "colab": {
          "base_uri": "https://localhost:8080/"
        },
        "id": "6mjK8-FaqcVe",
        "outputId": "31af27bc-35f8-4b3f-f2d7-53f8528ee707"
      },
      "execution_count": null,
      "outputs": [
        {
          "output_type": "stream",
          "name": "stdout",
          "text": [
            "221\n"
          ]
        }
      ]
    },
    {
      "cell_type": "markdown",
      "source": [
        "In a village, there is a circular pond with a radius of 84 meters.\n",
        "Calculate the area of the pond using the formula: Circle Area = π\n",
        "r^2. (Use the value 3.14 for π) Bonus Question: If there is exactly\n",
        "1.4 liters of water in a square meter, what is the total amount of\n",
        "water in the pond? Print the answer without any decimal point in\n",
        "it. Hint: Circle Area = π r^2 Water in the pond = Pond Area\n",
        "Water per Square Meter"
      ],
      "metadata": {
        "id": "rJx-oGbXqkdy"
      }
    },
    {
      "cell_type": "code",
      "source": [
        "radius = 84\n",
        "pi = 3.14\n",
        "\n",
        "area = pi * radius ** 2\n",
        "water_per_sq_meter = 1.4\n",
        "\n",
        "total_water = area * water_per_sq_meter\n",
        "print(int(total_water))\n"
      ],
      "metadata": {
        "colab": {
          "base_uri": "https://localhost:8080/"
        },
        "id": "xbmAR9J1qisp",
        "outputId": "667105da-56cc-48ba-a11e-cef8f8355742"
      },
      "execution_count": null,
      "outputs": [
        {
          "output_type": "stream",
          "name": "stdout",
          "text": [
            "31018\n"
          ]
        }
      ]
    },
    {
      "cell_type": "markdown",
      "source": [
        "If you cross a 490meterlong street in 7 minutes, calculate your\n",
        "speed in meters per second. Print the answer without any decimal\n",
        "point in it. Hint: Speed = Distance / Time"
      ],
      "metadata": {
        "id": "fH1ZirqhqzHA"
      }
    },
    {
      "cell_type": "code",
      "source": [
        "distance = 490\n",
        "time_minutes = 7\n",
        "\n",
        "time_seconds = time_minutes * 60\n",
        "speed = distance / time_seconds\n",
        "\n",
        "print(int(speed))\n"
      ],
      "metadata": {
        "colab": {
          "base_uri": "https://localhost:8080/"
        },
        "id": "BJfCVN0Zq2Wk",
        "outputId": "0c62bdb2-1ffc-4ca8-d569-db958a410a66"
      },
      "execution_count": null,
      "outputs": [
        {
          "output_type": "stream",
          "name": "stdout",
          "text": [
            "1\n"
          ]
        }
      ]
    },
    {
      "cell_type": "markdown",
      "source": [
        "Calculate the number of members in the Justice League."
      ],
      "metadata": {
        "id": "NrKWm1rosHF-"
      }
    },
    {
      "cell_type": "code",
      "source": [
        "justice_league = [\"Superman\", \"Batman\", \"Wonder Woman\", \"Flash\", \"Aquaman\", \"Green Lantern\"]\n",
        "print(len(justice_league))\n"
      ],
      "metadata": {
        "colab": {
          "base_uri": "https://localhost:8080/"
        },
        "id": "hcicyZjBsEdO",
        "outputId": "b4fdcdfe-8157-4bde-81cb-5d6e2961721f"
      },
      "execution_count": null,
      "outputs": [
        {
          "output_type": "stream",
          "name": "stdout",
          "text": [
            "6\n"
          ]
        }
      ]
    },
    {
      "cell_type": "markdown",
      "source": [
        "Batman recruited Batgirl and Nightwing as new members.\n",
        "Add them to your list."
      ],
      "metadata": {
        "id": "C6dxuIcqsVNe"
      }
    },
    {
      "cell_type": "code",
      "source": [
        "justice_league.append(\"Batgirl\")\n",
        "justice_league.append(\"Nightwing\")\n",
        "\n",
        "print(justice_league)"
      ],
      "metadata": {
        "colab": {
          "base_uri": "https://localhost:8080/"
        },
        "id": "djYKzciNsKa_",
        "outputId": "455488ac-699a-4c16-f964-f796b8bf8e83"
      },
      "execution_count": null,
      "outputs": [
        {
          "output_type": "stream",
          "name": "stdout",
          "text": [
            "['Superman', 'Batman', 'Wonder Woman', 'Flash', 'Aquaman', 'Green Lantern', 'Batgirl', 'Nightwing']\n"
          ]
        }
      ]
    },
    {
      "cell_type": "markdown",
      "source": [
        "Wonder Woman is now the leader of the Justice League.\n",
        "Move her to the beginning of the list."
      ],
      "metadata": {
        "id": "DT24ylD7sZwP"
      }
    },
    {
      "cell_type": "code",
      "source": [
        "justice_league.remove(\"Wonder Woman\")\n",
        "justice_league.insert(0, \"Wonder Woman\")\n",
        "\n",
        "print(justice_league)"
      ],
      "metadata": {
        "colab": {
          "base_uri": "https://localhost:8080/"
        },
        "id": "TkYRj1r1sUOQ",
        "outputId": "f0c52008-54e1-4917-a6cc-03c9da235d06"
      },
      "execution_count": null,
      "outputs": [
        {
          "output_type": "stream",
          "name": "stdout",
          "text": [
            "['Wonder Woman', 'Superman', 'Batman', 'Flash', 'Aquaman', 'Green Lantern', 'Batgirl', 'Nightwing']\n"
          ]
        }
      ]
    },
    {
      "cell_type": "markdown",
      "source": [
        "Aquaman and Flash are having conflicts, and you need to\n",
        "separate them. Choose either \"Green Lantern\" or \"Superman\"\n",
        "and move them in between Aquaman and Flash."
      ],
      "metadata": {
        "id": "5traVRKDsiKy"
      }
    },
    {
      "cell_type": "code",
      "source": [
        "justice_league.remove(\"Superman\")\n",
        "flash_index = justice_league.index(\"Flash\")\n",
        "aquaman_index = justice_league.index(\"Aquaman\")\n",
        "min_index = min(flash_index, aquaman_index)\n",
        "justice_league.insert(min_index + 1, \"Superman\")\n",
        "\n",
        "print(justice_league)"
      ],
      "metadata": {
        "colab": {
          "base_uri": "https://localhost:8080/"
        },
        "id": "oM3qpj4IsgE0",
        "outputId": "c962374c-fcec-48d3-fdb2-1f666d34da85"
      },
      "execution_count": null,
      "outputs": [
        {
          "output_type": "stream",
          "name": "stdout",
          "text": [
            "['Wonder Woman', 'Batman', 'Flash', 'Superman', 'Aquaman', 'Green Lantern', 'Batgirl', 'Nightwing']\n"
          ]
        }
      ]
    },
    {
      "cell_type": "markdown",
      "source": [
        "The Justice League faced a crisis, and Superman decided to\n",
        "assemble a new team. Replace the existing list with the following\n",
        "new members: \"Cyborg\"\n",
        ",\n",
        "\"Shazam\"\n",
        ",\n",
        "\"Hawkgirl\"\n",
        ",\n",
        "\"Martian\n",
        "\n",
        "Manhunter\"\n",
        ",\n",
        "\"Green Arrow\"."
      ],
      "metadata": {
        "id": "uc36rzbhtC0N"
      }
    },
    {
      "cell_type": "code",
      "source": [
        "justice_league = [\"Cyborg\", \"Shazam\", \"Hawkgirl\", \"Martian Manhunter\", \"Green Arrow\"]\n",
        "\n",
        "print(justice_league)\n",
        "\n"
      ],
      "metadata": {
        "colab": {
          "base_uri": "https://localhost:8080/"
        },
        "id": "3PFMWBretBmm",
        "outputId": "c36cd808-1668-4ff2-88aa-b420cc2b32a1"
      },
      "execution_count": null,
      "outputs": [
        {
          "output_type": "stream",
          "name": "stdout",
          "text": [
            "['Cyborg', 'Shazam', 'Hawkgirl', 'Martian Manhunter', 'Green Arrow']\n"
          ]
        }
      ]
    },
    {
      "cell_type": "markdown",
      "source": [
        "Sort the Justice League alphabetically. The hero at the 0th\n",
        "index will become the new leader."
      ],
      "metadata": {
        "id": "iCmUFAGOtoWD"
      }
    },
    {
      "cell_type": "code",
      "source": [
        "justice_league.sort()\n",
        "\n",
        "print(justice_league)"
      ],
      "metadata": {
        "colab": {
          "base_uri": "https://localhost:8080/"
        },
        "id": "kv5sXSGXtn1X",
        "outputId": "ae28b626-4f62-43ca-ebee-e8c45f3ba99a"
      },
      "execution_count": null,
      "outputs": [
        {
          "output_type": "stream",
          "name": "stdout",
          "text": [
            "['Cyborg', 'Green Arrow', 'Hawkgirl', 'Martian Manhunter', 'Shazam']\n"
          ]
        }
      ]
    },
    {
      "cell_type": "markdown",
      "source": [
        "Write a program to check if two cities belong to the same country.\n",
        "Ask the user to enter two cities and print whether they belong to the\n",
        "same country or not.\n",
        "\n",
        "Example:\n",
        "Enter the first city: \"Mumbai\"\n",
        "Enter the second city: \"Chennai\"\n",
        "Output: \"Both cities are in India\"\n",
        "\n",
        "Example:\n",
        "Enter the first city: \"Sydney\"\n",
        "Enter the second city: \"Dubai\"\n",
        "Output: \"They don't belong to the same country\""
      ],
      "metadata": {
        "id": "XlEqY0U8tzf0"
      }
    },
    {
      "cell_type": "code",
      "source": [
        "city_country = {\n",
        "    \"Mumbai\": \"India\",\n",
        "    \"Chennai\": \"India\",\n",
        "    \"Delhi\": \"India\",\n",
        "    \"Sydney\": \"Australia\",\n",
        "    \"Dubai\": \"UAE\",\n",
        "    \"New York\": \"USA\",\n",
        "    \"Los Angeles\": \"USA\",\n",
        "    \"London\": \"UK\",\n",
        "    \"Manchester\": \"UK\"\n",
        "}\n",
        "\n",
        "city1 = input(\"Enter the first city: \").strip()\n",
        "city2 = input(\"Enter the second city: \").strip()\n",
        "\n",
        "country1 = city_country.get(city1)\n",
        "country2 = city_country.get(city2)\n",
        "\n",
        "if country1 and country2:\n",
        "    if country1 == country2:\n",
        "        print(f\"Both cities are in {country1}\")\n",
        "    else:\n",
        "        print(\"They don't belong to the same country\")\n",
        "else:\n",
        "    print(\"One or both cities are not in the database.\")\n"
      ],
      "metadata": {
        "colab": {
          "base_uri": "https://localhost:8080/"
        },
        "id": "9oHcD9CLtyB1",
        "outputId": "26e87b67-babc-4569-9cc9-53e3daed1d63"
      },
      "execution_count": null,
      "outputs": [
        {
          "output_type": "stream",
          "name": "stdout",
          "text": [
            "Enter the first city: Chennai\n",
            "Enter the second city: Delhi\n",
            "Both cities are in India\n"
          ]
        }
      ]
    },
    {
      "cell_type": "markdown",
      "source": [
        "Write a program to determine the BMI Category based on user input.\n",
        "Ask the user to:\n",
        "Enter height in meters\n",
        "Enter weight in kilograms\n",
        "Calculate BMI using the formula: BMI = weight / (height)2\n",
        "Use the following categories:\n",
        "If BMI is 30 or greater, print \"Obesity\"\n",
        "If BMI is between 25 and 29, print \"Overweight\"\n",
        "If BMI is between 18.5 and 25, print \"Normal\"\n",
        "If BMI is less than 18.5, print \"Underweight\"\n",
        "Example:\n",
        "Enter height in meters: 1.75\n",
        "Enter weight in kilograms: 70\n",
        "Output: \"Normal\""
      ],
      "metadata": {
        "id": "CpzMsdjVw2Bg"
      }
    },
    {
      "cell_type": "code",
      "source": [
        "height = float(input(\"Enter height in meters: \"))\n",
        "weight = float(input(\"Enter weight in kilograms: \"))\n",
        "\n",
        "bmi = weight / (height ** 2)\n",
        "\n",
        "if bmi >= 30:\n",
        "    print(\"Obesity\")\n",
        "elif 25 <= bmi < 30:\n",
        "    print(\"Overweight\")\n",
        "elif 18.5 <= bmi < 25:\n",
        "    print(\"Normal\")\n",
        "else:\n",
        "    print(\"Underweight\")\n"
      ],
      "metadata": {
        "colab": {
          "base_uri": "https://localhost:8080/"
        },
        "id": "ufhY3Uotw61D",
        "outputId": "9417bba7-4178-4482-87c1-d16764474d35"
      },
      "execution_count": null,
      "outputs": [
        {
          "output_type": "stream",
          "name": "stdout",
          "text": [
            "Enter height in meters: 45\n",
            "Enter weight in kilograms: 78\n",
            "Underweight\n"
          ]
        }
      ]
    },
    {
      "cell_type": "markdown",
      "source": [
        "Write a program to determine which country a city belongs to. Given\n",
        "list of cities per country:\n",
        "Australia = [\"Sydney\"\n",
        ",\n",
        "\"Melbourne\"\n",
        ",\n",
        "\"Brisbane\"\n",
        ",\n",
        "\"Perth\"]\n",
        "\n",
        "UAE = [\"Dubai\"\n",
        ",\n",
        "\"Abu Dhabi\"\n",
        ",\n",
        "\"Sharjah\"\n",
        ",\n",
        "\"Ajman\"]\n",
        "\n",
        "India = [\"Mumbai\"\n",
        ",\n",
        "\"Bangalore\"\n",
        ",\n",
        "\"Chennai\"\n",
        ",\n",
        "\"Delhi\"]\n",
        "\n",
        "Ask the user to enter a city name and print the corresponding country.\n",
        "Example:\n",
        "Enter a city name: \"Abu Dhabi\"\n",
        "Output: \"Abu Dhabi is in UAE\""
      ],
      "metadata": {
        "id": "F3t8y0fFxGIO"
      }
    },
    {
      "cell_type": "code",
      "source": [
        "australia = [\"Sydney\", \"Melbourne\", \"Brisbane\", \"Perth\"]\n",
        "uae = [\"Dubai\", \"Abu Dhabi\", \"Sharjah\", \"Ajman\"]\n",
        "india = [\"Mumbai\", \"Bangalore\", \"Chennai\", \"Delhi\"]\n",
        "\n",
        "city = input(\"Enter a city name: \").strip()\n",
        "\n",
        "if city in australia:\n",
        "    print(f\"{city} is in Australia\")\n",
        "elif city in uae:\n",
        "    print(f\"{city} is in UAE\")\n",
        "elif city in india:\n",
        "    print(f\"{city} is in India\")\n",
        "else:\n",
        "    print(\"City not found in the database.\")\n"
      ],
      "metadata": {
        "id": "6BddAepSw7ne"
      },
      "execution_count": null,
      "outputs": []
    },
    {
      "cell_type": "markdown",
      "source": [
        "Using a for loop, simulate rolling a sixsided die multiple times (at least 20\n",
        "times).\n",
        "Count and print the following statistics:\n",
        "How many times you rolled a 6\n",
        "How many times you rolled a 1\n",
        "How many times you rolled two 6s in a row"
      ],
      "metadata": {
        "id": "U0DqxhUoxJl1"
      }
    },
    {
      "cell_type": "code",
      "source": [
        "import random\n",
        "\n",
        "rolls = []\n",
        "count_6 = 0\n",
        "count_1 = 0\n",
        "consecutive_6s = 0\n",
        "\n",
        "previous_roll = 0\n",
        "\n",
        "for i in range(20):\n",
        "    roll = random.randint(1, 6)\n",
        "    rolls.append(roll)\n",
        "\n",
        "    if roll == 6:\n",
        "        count_6 += 1\n",
        "        if previous_roll == 6:\n",
        "            consecutive_6s += 1\n",
        "    if roll == 1:\n",
        "        count_1 += 1\n",
        "\n",
        "    previous_roll = roll\n",
        "\n",
        "print(\"Die rolls:\", rolls)\n",
        "print(\"Number of times 6 was rolled:\", count_6)\n",
        "print(\"Number of times 1 was rolled:\", count_1)\n",
        "print(\"Number of times two 6s were rolled in a row:\", consecutive_6s)\n"
      ],
      "metadata": {
        "colab": {
          "base_uri": "https://localhost:8080/"
        },
        "id": "9T8iH-0x9bqv",
        "outputId": "ad695362-4f0d-4f98-a894-cda9bc4f6471"
      },
      "execution_count": null,
      "outputs": [
        {
          "output_type": "stream",
          "name": "stdout",
          "text": [
            "Die rolls: [4, 6, 6, 2, 4, 5, 6, 2, 3, 6, 6, 4, 4, 1, 1, 1, 4, 1, 1, 4]\n",
            "Number of times 6 was rolled: 5\n",
            "Number of times 1 was rolled: 5\n",
            "Number of times two 6s were rolled in a row: 2\n"
          ]
        }
      ]
    },
    {
      "cell_type": "markdown",
      "source": [
        "Imagine you are doing a workout routine, and you have to complete 100\n",
        "jumping jacks.\n",
        "Write a program that:\n",
        "Asks you to perform 10 jumping jacks at a time.\n",
        "After each set, it asks, \"Are you tired?\"\n",
        "If you reply \"yes\" or \"y,\" it should ask if you want to skip the remaining sets.\n",
        "If you reply \"yes\" or \"y,\" it should break and print, \"You completed a total of\n",
        "jumping jacks.\"\n",
        "For example, if you did only 30 jumping jacks and answered \"yes,\" the program\n",
        "will break and print, \"You completed a total of 30 jumping jacks.\"\n",
        "If you reply \"no\" or \"n,\" it should continue and display how many jumping jacks\n",
        "are remaining. After that, ask you again, \"Are you tired?\"\n",
        "For example, if you answered \"no,\" it should display that 70 jumping jacks are\n",
        "remaining and ask you again, \"Are you tired?\"\n",
        "If you reply \"no\" or \"n,\" it should continue and display how many jumping jacks\n",
        "are remaining. After that, ask you again, \"Are you tired?\"\n",
        "For example, if you answered \"no,\" it should display that 70 jumping jacks are\n",
        "remaining and ask you again, \"Are you tired?\"\n",
        "If you complete all 100 jumping jacks, it should print, \"Congratulations! You\n",
        "completed the workout,\" and stop the program"
      ],
      "metadata": {
        "id": "Rey9YC0r9mIG"
      }
    },
    {
      "cell_type": "code",
      "source": [
        "total_jumping_jacks = 100\n",
        "set_size = 10\n",
        "completed = 0\n",
        "\n",
        "while completed < total_jumping_jacks:\n",
        "    completed += set_size\n",
        "    print(f\"You have completed {completed} jumping jacks.\")\n",
        "\n",
        "    if completed >= total_jumping_jacks:\n",
        "        print(\"Congratulations! You completed the workout.\")\n",
        "        break\n",
        "\n",
        "    tired = input(\"Are you tired? (yes/no): \").strip().lower()\n",
        "\n",
        "    if tired in [\"yes\", \"y\"]:\n",
        "        skip = input(\"Do you want to skip the remaining sets? (yes/no): \").strip().lower()\n",
        "        if skip in [\"yes\", \"y\"]:\n",
        "            print(f\"You completed a total of {completed} jumping jacks.\")\n",
        "            break\n",
        "        else:\n",
        "            remaining = total_jumping_jacks - completed\n",
        "            print(f\"Okay, keep going! {remaining} jumping jacks remaining.\")\n",
        "    elif tired in [\"no\", \"n\"]:\n",
        "        remaining = total_jumping_jacks - completed\n",
        "        print(f\"Great! {remaining} jumping jacks remaining.\")\n",
        "    else:\n",
        "        print(\"Invalid input. Assuming you're not tired.\")\n"
      ],
      "metadata": {
        "colab": {
          "base_uri": "https://localhost:8080/"
        },
        "id": "RCICXs9W9sLW",
        "outputId": "8748d362-a12d-416f-cd8a-b07c7e7da18e"
      },
      "execution_count": null,
      "outputs": [
        {
          "output_type": "stream",
          "name": "stdout",
          "text": [
            "You have completed 10 jumping jacks.\n",
            "Are you tired? (yes/no): y\n",
            "Do you want to skip the remaining sets? (yes/no): n\n",
            "Okay, keep going! 90 jumping jacks remaining.\n",
            "You have completed 20 jumping jacks.\n",
            "Are you tired? (yes/no): n\n",
            "Great! 80 jumping jacks remaining.\n",
            "You have completed 30 jumping jacks.\n",
            "Are you tired? (yes/no): yes\n",
            "Do you want to skip the remaining sets? (yes/no): no\n",
            "Okay, keep going! 70 jumping jacks remaining.\n",
            "You have completed 40 jumping jacks.\n",
            "Are you tired? (yes/no): yes\n",
            "Do you want to skip the remaining sets? (yes/no): yes\n",
            "You completed a total of 40 jumping jacks.\n"
          ]
        }
      ]
    },
    {
      "cell_type": "code",
      "source": [],
      "metadata": {
        "id": "sbiTL1Iy-50X"
      },
      "execution_count": null,
      "outputs": []
    }
  ]
}